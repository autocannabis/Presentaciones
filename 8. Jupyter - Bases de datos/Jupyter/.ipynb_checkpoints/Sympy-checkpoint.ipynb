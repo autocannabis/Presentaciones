{
 "cells": [
  {
   "cell_type": "markdown",
   "metadata": {},
   "source": [
    "<div align=\"center\">\n",
    "    <h1><strong>Sympy</strong></h1>\n",
    "    <h2>Juan David Argüello Plata</h2>\n",
    "    <img src=\"Images/cenivam.png\" style=\"width: 250px;\" />\n",
    "</div>\n",
    "\n",
    "<div align=\"justify\">\n",
    "    <i>Sympy</i> es una librería de Python empleada para resolver <strong>ecuaciones simbólicas</strong>. Al igual que <a href=\"https://www.wolframalpha.com/\">Wolfram Alpha</a>, existe <a href=\"https://gamma.sympy.org/\">Sympy Gamma</a>.\n",
    "</div>"
   ]
  },
  {
   "cell_type": "code",
   "execution_count": null,
   "metadata": {},
   "outputs": [],
   "source": [
    "from sympy import init_session\n",
    "init_session(use_latex=True)"
   ]
  },
  {
   "cell_type": "markdown",
   "metadata": {},
   "source": [
    "<div align=\"justify\">\n",
    "    Lo primero que debemos hacer es crear los símbolos <i>incógnita</i> de nuestro problema: \n",
    "</div>"
   ]
  },
  {
   "cell_type": "code",
   "execution_count": null,
   "metadata": {},
   "outputs": [],
   "source": [
    "a, b, c = symbols('a, b, c')\n",
    "a"
   ]
  },
  {
   "cell_type": "markdown",
   "metadata": {},
   "source": [
    "<div align=\"justify\">\n",
    "    Los símbolos también pueden llevar nomenclatura $\\LaTeX$.\n",
    "</div>"
   ]
  },
  {
   "cell_type": "code",
   "execution_count": null,
   "metadata": {},
   "outputs": [],
   "source": [
    "theta = symbols('\\\\theta_{\\\\gamma}')\n",
    "theta"
   ]
  },
  {
   "cell_type": "markdown",
   "metadata": {},
   "source": [
    "<div align=\"justify\">\n",
    "    Para los \"creativos\"...\n",
    "</div>"
   ]
  },
  {
   "cell_type": "code",
   "execution_count": null,
   "metadata": {},
   "outputs": [],
   "source": [
    "1+2*I"
   ]
  },
  {
   "cell_type": "markdown",
   "metadata": {},
   "source": [
    "## __Naturaleza de los símbolos__\n",
    "\n",
    "<div align=\"justify\">\n",
    "    En <i>Sympy</i>, podemos observar y definir la naturaleza de los símbolos (si son números reales, naturales, imaginarios, etc).\n",
    "</div>"
   ]
  },
  {
   "cell_type": "code",
   "execution_count": null,
   "metadata": {},
   "outputs": [],
   "source": [
    "a.assumptions0"
   ]
  },
  {
   "cell_type": "markdown",
   "metadata": {},
   "source": [
    "<div align=\"justify\">\n",
    "    En matemáticas, la propiedad conmutativa le proporciona la potestad a un número de poder ser empleado en operaciones de adición y multiplicación. NO todos los números tienen esta propiedad entre ellos. Por ejemplo: no se puede sumar directamente números imaginarios con reales.\n",
    "</div>\n",
    "\n",
    "<br>\n",
    "\n",
    "<div align=\"justify\">\n",
    "    Podemos <strong>definir</strong> la propiedad de un símbolo como se muestra a continuación:\n",
    "</div>"
   ]
  },
  {
   "cell_type": "code",
   "execution_count": null,
   "metadata": {},
   "outputs": [],
   "source": [
    "x = symbols('x', real=True, positive=True)\n",
    "x.assumptions0"
   ]
  },
  {
   "cell_type": "markdown",
   "metadata": {},
   "source": [
    "<div align=\"justify\">\n",
    "    En caso de que queramos saber mayor información sobre los métodos de la clase <i>symbols</i>, podemos ejecutar lo siguiente:\n",
    "</div>"
   ]
  },
  {
   "cell_type": "code",
   "execution_count": null,
   "metadata": {},
   "outputs": [],
   "source": [
    "symbols?"
   ]
  },
  {
   "cell_type": "markdown",
   "metadata": {},
   "source": [
    "### Simplificación expresiones\n",
    "\n",
    "<div align=\"justify\">\n",
    "    Podemos \"demostrar\" la Ecuación \\ref{cuad}:\n",
    "    $$\n",
    "    \\begin{equation}\n",
    "        \\left(a+b \\right) ^2 = a^2 + 2 ab + b^2\n",
    "        \\tag{1}\n",
    "        \\label{cuad}\n",
    "    \\end{equation}\n",
    "    $$\n",
    "</div>"
   ]
  },
  {
   "cell_type": "code",
   "execution_count": null,
   "metadata": {},
   "outputs": [],
   "source": [
    "factor(a**2 + 2*a*b +b**2)"
   ]
  },
  {
   "cell_type": "markdown",
   "metadata": {},
   "source": [
    "Si queremos expandirlo..."
   ]
  },
  {
   "cell_type": "code",
   "execution_count": null,
   "metadata": {},
   "outputs": [],
   "source": [
    "expand((a+b)**2)"
   ]
  },
  {
   "cell_type": "markdown",
   "metadata": {},
   "source": [
    "<div align=\"justify\">\n",
    "    Como dirían algunos profesores: vamos a hacer algo <strong>obvio</strong>. Algo que hasta un bachiller sería capaz de hacer. Vamos a demostrar que:\n",
    "    $$\n",
    "    \\begin{equation}\n",
    "        \\sqrt[2]{y ^2} = y\n",
    "        \\tag{2}\n",
    "    \\end{equation}\n",
    "    $$\n",
    "</div>"
   ]
  },
  {
   "cell_type": "code",
   "execution_count": null,
   "metadata": {},
   "outputs": [],
   "source": [
    "y = symbols('y')\n",
    "simplify(sqrt(y**2))"
   ]
  },
  {
   "cell_type": "markdown",
   "metadata": {},
   "source": [
    "<div align=\"justify\">\n",
    "    ¿Nos tumbaron?.. No, falta especificar algunas propiedades.\n",
    "</div>"
   ]
  },
  {
   "cell_type": "code",
   "execution_count": null,
   "metadata": {},
   "outputs": [],
   "source": [
    "y = symbols('y', real=True)\n",
    "simplify(sqrt(y**2))"
   ]
  },
  {
   "cell_type": "markdown",
   "metadata": {},
   "source": [
    "<div align=\"justify\">\n",
    "    Ahora vemos cómo son las cosas... La tercera es la vencida.\n",
    "</div>"
   ]
  },
  {
   "cell_type": "code",
   "execution_count": null,
   "metadata": {},
   "outputs": [],
   "source": [
    "y = symbols('y', real=True, positive=True)\n",
    "simplify(sqrt(y**2))"
   ]
  },
  {
   "cell_type": "markdown",
   "metadata": {},
   "source": [
    "## __Derivadas e Integrales__\n",
    "\n",
    "<div align=\"justify\">\n",
    "    A contniuación, veremos algunos ejemplos de derivadas e integrales.\n",
    "</div>\n",
    "\n",
    "### Derivadas\n",
    "\n",
    "<div align=\"justify\">\n",
    "    Vamos a demostrar lo siguiente:\n",
    "    $$\n",
    "    \\begin{equation}\n",
    "        \\frac{d \\left(sin(x) \\right)}{dx} = cos(x)\n",
    "        \\tag{3}\n",
    "    \\end{equation}\n",
    "    $$\n",
    "</div>"
   ]
  },
  {
   "cell_type": "code",
   "execution_count": null,
   "metadata": {},
   "outputs": [],
   "source": [
    "eq = sin(x)\n",
    "eq.diff(x)"
   ]
  },
  {
   "cell_type": "markdown",
   "metadata": {},
   "source": [
    "¿Cómo sería la segunda derivada?"
   ]
  },
  {
   "cell_type": "code",
   "execution_count": null,
   "metadata": {},
   "outputs": [],
   "source": [
    "eq.diff(x,2)"
   ]
  },
  {
   "cell_type": "markdown",
   "metadata": {},
   "source": [
    "<div align=\"justify\">\n",
    "    También se puede con derivación parcial.\n",
    "    $$\n",
    "    \\begin{equation}\n",
    "        z = xy+3y \\\\\n",
    "        \\frac{\\partial z}{\\partial y} = x+3\n",
    "    \\end{equation}\n",
    "    $$\n",
    "</div>"
   ]
  },
  {
   "cell_type": "code",
   "execution_count": null,
   "metadata": {},
   "outputs": [],
   "source": [
    "eq = x*y + 3*y\n",
    "eq.diff(y)"
   ]
  },
  {
   "cell_type": "markdown",
   "metadata": {},
   "source": [
    "<div align=\"justify\">\n",
    "    Las torturas que pudimos evitar en cálculo I.\n",
    "    $$\n",
    "    \\begin{equation}\n",
    "        y = \\frac{2x^2-4x+2}{\\left(x-5 \\right)^3} \\\\\n",
    "        \\frac{d y}{d x} = ?\n",
    "    \\end{equation}\n",
    "    $$\n",
    "</div>"
   ]
  },
  {
   "cell_type": "code",
   "execution_count": null,
   "metadata": {},
   "outputs": [],
   "source": [
    "eq = (2*x**2 - 4*x +2)/(x-5)**5\n",
    "eq.diff(x)"
   ]
  },
  {
   "cell_type": "markdown",
   "metadata": {},
   "source": [
    "<div align=\"justify\">\n",
    "    Verifiquemos la regla de la cadena. Podemos crear <strong>funciones</strong> de la siguiente manera:\n",
    "</div>"
   ]
  },
  {
   "cell_type": "code",
   "execution_count": null,
   "metadata": {},
   "outputs": [],
   "source": [
    "F = Function('F')\n",
    "G = Function('G')\n",
    "F(G(x)).diff(x)"
   ]
  },
  {
   "cell_type": "markdown",
   "metadata": {},
   "source": [
    "### Integrales\n",
    "\n",
    "<div align=\"justify\">\n",
    "    Las integrales... ¿tan fáciles como las derivadas? Vamos a ver.\n",
    "    $$\n",
    "    \\begin{equation}\n",
    "        \\int cos(x) ^2 = ?\n",
    "    \\end{equation}\n",
    "    $$\n",
    "</div>"
   ]
  },
  {
   "cell_type": "code",
   "execution_count": null,
   "metadata": {},
   "outputs": [],
   "source": [
    "eq = cos(x)**2\n",
    "integrate(eq,x)"
   ]
  },
  {
   "cell_type": "markdown",
   "metadata": {},
   "source": [
    "<div align=\"justify\">\n",
    "    ¿Y si fuera?\n",
    "    $$\n",
    "    \\begin{equation}\n",
    "        \\int _0 ^{\\pi} cos(x) ^2 = ?\n",
    "    \\end{equation}\n",
    "    $$\n",
    "</div>"
   ]
  },
  {
   "cell_type": "code",
   "execution_count": null,
   "metadata": {},
   "outputs": [],
   "source": [
    "integrate(eq,(x,0,pi))"
   ]
  },
  {
   "cell_type": "markdown",
   "metadata": {},
   "source": [
    "<div align=\"justify\">\n",
    "    Pero.. ¿es milagroso?\n",
    "</div>"
   ]
  },
  {
   "cell_type": "code",
   "execution_count": null,
   "metadata": {},
   "outputs": [],
   "source": [
    "eq = E**x**2\n",
    "Integral(eq)"
   ]
  },
  {
   "cell_type": "code",
   "execution_count": null,
   "metadata": {},
   "outputs": [],
   "source": [
    "sol = integrate(eq)\n",
    "sol"
   ]
  },
  {
   "cell_type": "markdown",
   "metadata": {},
   "source": [
    "<div align=\"justify\">\n",
    "    Bueno... casi. Como dato curioso: la función $erfi(x)$ se conoce como la <i>función error</i>.\n",
    "    $$\n",
    "    \\begin{equation}\n",
    "        erfi(x) = \\frac{2}{\\sqrt(\\pi)} \\int _0 ^x e ^{-t^2} dt\n",
    "        \\tag{4}\n",
    "    \\end{equation}\n",
    "    $$\n",
    "</div>"
   ]
  },
  {
   "cell_type": "code",
   "execution_count": null,
   "metadata": {},
   "outputs": [],
   "source": [
    "%matplotlib inline\n",
    "plot(sol, (x,-5,5))"
   ]
  },
  {
   "cell_type": "markdown",
   "metadata": {},
   "source": [
    "## __Ecuaciones Diferenciales__\n",
    "\n",
    "<div align=\"justify\">\n",
    "    Supongamos que tenemos lo siguiente:\n",
    "    $$\n",
    "    \\begin{equation}\n",
    "        \\frac{d^2 y}{dx^2} + K = 0\n",
    "    \\end{equation}\n",
    "    $$\n",
    "    Con las siguientes condiciones de frontera:\n",
    "    <ul>\n",
    "        <li>$y(0)=0$</li>\n",
    "        <li>$\\frac{dy}{dx} \\Big| _{x=2} = 0$</li>\n",
    "    </ul>\n",
    "</div>"
   ]
  },
  {
   "cell_type": "code",
   "execution_count": null,
   "metadata": {},
   "outputs": [],
   "source": [
    "from IPython.display import HTML, display\n",
    "#Planteamiento de la ecuación\n",
    "y = Function('y')\n",
    "K = symbols('K')\n",
    "Ecuacion = Eq(y(x).diff(x,2) + K,0)\n",
    "\n",
    "#Condiciones de Frontera\n",
    "CF = {\n",
    "    y(0):0,\n",
    "    y(x).diff(x).subs(x,2):0\n",
    "}\n",
    "\n",
    "#Solución - sin condiciones de frontera\n",
    "sol = dsolve(Ecuacion)\n",
    "display(HTML('Solución sin condiciones de frontera:'))\n",
    "display(sol)\n",
    "\n",
    "#Solución - con condiciones de frontera\n",
    "sol = dsolve(Ecuacion, ics=CF)\n",
    "display(HTML('Solución con condiciones de frontera:'))\n",
    "display(sol)\n"
   ]
  }
 ],
 "metadata": {
  "kernelspec": {
   "display_name": "Python 3",
   "language": "python",
   "name": "python3"
  },
  "language_info": {
   "codemirror_mode": {
    "name": "ipython",
    "version": 3
   },
   "file_extension": ".py",
   "mimetype": "text/x-python",
   "name": "python",
   "nbconvert_exporter": "python",
   "pygments_lexer": "ipython3",
   "version": "3.7.4"
  }
 },
 "nbformat": 4,
 "nbformat_minor": 4
}
