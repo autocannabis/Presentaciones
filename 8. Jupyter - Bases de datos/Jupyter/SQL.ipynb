{
 "cells": [
  {
   "cell_type": "markdown",
   "metadata": {},
   "source": [
    "<div align=\"center\">\n",
    "    <h1><strong>SQL</strong></h1>\n",
    "    <h2>Juan David Argüello Plata</h2>\n",
    "    <img src=\"Images/cenivam.png\" style=\"width: 250px;\" />\n",
    "</div>\n",
    "\n",
    "<div align=\"justify\">\n",
    "    La mayoría de las bases de datos emplean el lenguaje SQL. A continuación, veremos cómo:\n",
    "</div>\n",
    "\n",
    "* Crear bases de datos y tablas.\n",
    "* Enviar información.\n",
    "* Leer información.\n",
    "\n",
    "## __Archivos de texto__\n",
    "\n",
    "<div align=\"justify\">\n",
    "    Si hay archivos diferentes a <i>SQL.ipynb</i> e <i>Images</i>, elimínalos.\n",
    "</div>\n",
    "\n",
    "<div align=\"justify\">\n",
    "    Ahora, vamos a crear un archivo de texto\n",
    "</div>"
   ]
  },
  {
   "cell_type": "code",
   "execution_count": null,
   "metadata": {},
   "outputs": [],
   "source": [
    "texto = 'Lo que quieras escribir...'\n",
    "nombre = 'Ejemplo'\n",
    "with open(nombre + '.txt', 'w+') as file:\n",
    "    file.write(texto)"
   ]
  },
  {
   "cell_type": "markdown",
   "metadata": {},
   "source": [
    "<div align=\"justify\">\n",
    "    Para leer el archivo...\n",
    "</div>"
   ]
  },
  {
   "cell_type": "code",
   "execution_count": null,
   "metadata": {},
   "outputs": [],
   "source": [
    "with open(nombre + '.txt', 'r') as file:\n",
    "    texto = file.read()\n",
    "texto"
   ]
  },
  {
   "cell_type": "markdown",
   "metadata": {},
   "source": [
    "Supongamos que un archivo contiene una matriz..."
   ]
  },
  {
   "cell_type": "code",
   "execution_count": null,
   "metadata": {},
   "outputs": [],
   "source": [
    "with open('Images/Vec.txt', 'r') as file:\n",
    "    texto = file.read()\n",
    "texto"
   ]
  },
  {
   "cell_type": "markdown",
   "metadata": {},
   "source": [
    "¿Cómo se come eso?"
   ]
  },
  {
   "cell_type": "code",
   "execution_count": null,
   "metadata": {},
   "outputs": [],
   "source": [
    "M = []\n",
    "for row in texto.split('\\n'):\n",
    "    vec = []\n",
    "    for item in row.split('\\t'):\n",
    "        #Convirtámoslo los números!\n",
    "        try:\n",
    "            vec.append(float(item))\n",
    "        except:\n",
    "            vec.append(item)\n",
    "    M.append(vec)\n",
    "M"
   ]
  },
  {
   "cell_type": "markdown",
   "metadata": {},
   "source": [
    "## __SQLite__\n",
    "\n",
    "<div align=\"justify\">\n",
    "    Ahora, crearemos una base de datos.\n",
    "</div>"
   ]
  },
  {
   "cell_type": "code",
   "execution_count": null,
   "metadata": {},
   "outputs": [],
   "source": [
    "import sqlite3 as sql\n",
    "import os\n",
    "\n",
    "class CreaDB():\n",
    "    \"\"\"\n",
    "        Crea y organiza la base de datos\n",
    "    \"\"\"\n",
    "    def __init__(self, name='data', out = False):\n",
    "        self.name = name\n",
    "        #Si existe base de datos... la eliminamos\n",
    "        if not out:\n",
    "            try:\n",
    "                os.remove(name + '.db')\n",
    "            except:\n",
    "                pass\n",
    "        #Creamos la base de datos\n",
    "        self.con = sql.connect(name + '.db')\n",
    "        self.cursor = self.con.cursor()\n",
    "        \n",
    "    \n",
    "CreaDB()"
   ]
  },
  {
   "cell_type": "markdown",
   "metadata": {},
   "source": [
    "<div align=\"justify\">\n",
    "    Ahora, revisa la carpeta, y encontrarás un archivo con extensión .db. Tu primera base de datos! Pero, está vacía, debemos crear tablas y almacenar información. \n",
    "</div>\n",
    "\n",
    "<div align=\"center\">\n",
    "    <img src=\"Images/SQL_Types.png\" style=\"width: 500px;\" />\n",
    "</div>\n",
    "\n",
    "<div align=\"center\">\n",
    "    <i>Figura 1.</i> Tipos de variable del lenguaje SQL.\n",
    "</div>\n"
   ]
  },
  {
   "cell_type": "code",
   "execution_count": null,
   "metadata": {},
   "outputs": [],
   "source": [
    "#Información de la tabla(s) que quieres...\n",
    "data = {\n",
    "    'tabla1':{\n",
    "        'id': 'int',\n",
    "        'num1': 'float',\n",
    "        'elem': 'bit'\n",
    "    }\n",
    "}\n",
    "data"
   ]
  },
  {
   "cell_type": "code",
   "execution_count": null,
   "metadata": {},
   "outputs": [],
   "source": [
    "class Table(CreaDB):\n",
    "    \"\"\"\n",
    "        Crea la tabla que necesites.\n",
    "    \"\"\"\n",
    "    def __init__(self, tab_info, db_name = 'data', virgin=True):\n",
    "        #Creamos la base de datos\n",
    "        super().__init__(db_name, virgin)\n",
    "        #Creamos la(s) tabla(s)\n",
    "        self.tab_names = []\n",
    "        for tabla in tab_info:\n",
    "            try:\n",
    "                #Si no existe en la base de datos: CREA\n",
    "                self.crea(tab_info[tabla], tabla)\n",
    "                self.tab_names.append(tabla)\n",
    "            except:\n",
    "                pass\n",
    "            \n",
    "    def crea(self, info, name):\n",
    "        text = \"CREATE TABLE \" + name + \"(\"\n",
    "        for item in info:\n",
    "            text += item + ' ' + info[item] + ', '\n",
    "        text = text[:-2] + ')'\n",
    "        print(text)\n",
    "        self.cursor.execute(text)\n",
    "        self.con.commit()\n",
    "    \n",
    "    def eliminar(self):\n",
    "        for table_name in self.tab_names:\n",
    "            self.cursor.execute(\"DROP TABLE \" + table_name)\n",
    "        self.con.commit()\n",
    "    \n",
    "    def __call__(self):\n",
    "        return self.cursor, self.con\n",
    "\n",
    "tab = Table(data)\n",
    "db_cursor, db_con = tab1()\n",
    "primera = True"
   ]
  },
  {
   "cell_type": "markdown",
   "metadata": {},
   "source": [
    "<div align=\"justify\">\n",
    "    Vamos a almacenar algo:\n",
    "</div>"
   ]
  },
  {
   "cell_type": "code",
   "execution_count": null,
   "metadata": {},
   "outputs": [],
   "source": [
    "if primera:\n",
    "    db_cursor.execute(\"\"\"\n",
    "        INSERT INTO tabla1 VALUES (1, 0.57, 0)\n",
    "    \"\"\")\n",
    "    db_con.commit()\n",
    "    primera = False"
   ]
  },
  {
   "cell_type": "markdown",
   "metadata": {},
   "source": [
    "Cuando termines de almacenar, cierra la conexión..."
   ]
  },
  {
   "cell_type": "code",
   "execution_count": null,
   "metadata": {},
   "outputs": [],
   "source": [
    "db_con.close()"
   ]
  },
  {
   "cell_type": "markdown",
   "metadata": {},
   "source": [
    "<div align=\"justify\">\n",
    "    Leamos la base de datos.\n",
    "</div>"
   ]
  },
  {
   "cell_type": "code",
   "execution_count": null,
   "metadata": {},
   "outputs": [],
   "source": []
  }
 ],
 "metadata": {
  "kernelspec": {
   "display_name": "Python 3",
   "language": "python",
   "name": "python3"
  },
  "language_info": {
   "codemirror_mode": {
    "name": "ipython",
    "version": 3
   },
   "file_extension": ".py",
   "mimetype": "text/x-python",
   "name": "python",
   "nbconvert_exporter": "python",
   "pygments_lexer": "ipython3",
   "version": "3.7.4"
  }
 },
 "nbformat": 4,
 "nbformat_minor": 4
}
